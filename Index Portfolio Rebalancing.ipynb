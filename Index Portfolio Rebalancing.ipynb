{
  "nbformat": 4,
  "nbformat_minor": 0,
  "metadata": {
    "colab": {
      "provenance": []
    },
    "kernelspec": {
      "name": "python3",
      "display_name": "Python 3"
    },
    "language_info": {
      "name": "python"
    }
  },
  "cells": [
    {
      "cell_type": "code",
      "execution_count": null,
      "metadata": {
        "colab": {
          "base_uri": "https://localhost:8080/"
        },
        "id": "r3Um0DZCdDQ4",
        "outputId": "86676ed4-4c2c-46a9-8569-6c67861e2b08"
      },
      "outputs": [
        {
          "output_type": "stream",
          "name": "stderr",
          "text": [
            "[*********************100%%**********************]  1003 of 1003 completed\n",
            "ERROR:yfinance:\n",
            "7 Failed downloads:\n",
            "ERROR:yfinance:['UHA.B', 'BF.A', 'HEI.A', 'CWE.A', 'BRK.B']: Exception('%ticker%: No timezone found, symbol may be delisted')\n",
            "ERROR:yfinance:['BF.B', 'LEN.B']: Exception('%ticker%: No price data found, symbol may be delisted (1d 1950-01-01 -> 2024-12-31)')\n"
          ]
        },
        {
          "output_type": "stream",
          "name": "stdout",
          "text": [
            "Price        Adj Close                                                       \\\n",
            "Ticker               A         AA    AAL        AAP        AAPL        ABBV   \n",
            "Date                                                                          \n",
            "1962-01-02         NaN   1.506892    NaN        NaN         NaN         NaN   \n",
            "1962-01-03         NaN   1.529942    NaN        NaN         NaN         NaN   \n",
            "1962-01-04         NaN   1.529942    NaN        NaN         NaN         NaN   \n",
            "1962-01-05         NaN   1.527061    NaN        NaN         NaN         NaN   \n",
            "1962-01-08         NaN   1.475197    NaN        NaN         NaN         NaN   \n",
            "...                ...        ...    ...        ...         ...         ...   \n",
            "2024-04-25  136.369995  35.939999  14.13  74.709999  169.889999  167.289993   \n",
            "2024-04-26  137.740005  36.880001  13.88  75.139999  169.300003  159.619995   \n",
            "2024-04-29  139.589996  37.650002  13.98  75.419998  173.500000  161.520004   \n",
            "2024-04-30  137.039993  35.139999  13.51  72.980003  170.330002  162.639999   \n",
            "2024-05-01  138.690002  34.250000  13.58  73.029999  169.300003  161.720001   \n",
            "\n",
            "Price                                                     ...     Volume  \\\n",
            "Ticker            ABNB         ABT       ACGL       ACHC  ...        YUM   \n",
            "Date                                                      ...              \n",
            "1962-01-02         NaN         NaN        NaN        NaN  ...        NaN   \n",
            "1962-01-03         NaN         NaN        NaN        NaN  ...        NaN   \n",
            "1962-01-04         NaN         NaN        NaN        NaN  ...        NaN   \n",
            "1962-01-05         NaN         NaN        NaN        NaN  ...        NaN   \n",
            "1962-01-08         NaN         NaN        NaN        NaN  ...        NaN   \n",
            "...                ...         ...        ...        ...  ...        ...   \n",
            "2024-04-25  163.009995  106.860001  93.050003  73.379997  ...  1693100.0   \n",
            "2024-04-26  164.229996  107.529999  90.900002  73.589996  ...  2008100.0   \n",
            "2024-04-29  162.250000  107.269997  91.250000  74.610001  ...  2221000.0   \n",
            "2024-04-30  158.570007  105.970001  93.540001  73.940002  ...  4085300.0   \n",
            "2024-05-01  156.160004  106.290001  95.800003  72.989998  ...  3984525.0   \n",
            "\n",
            "Price                                                                        \\\n",
            "Ticker              Z        ZBH      ZBRA         ZG         ZI       ZION   \n",
            "Date                                                                          \n",
            "1962-01-02        NaN        NaN       NaN        NaN        NaN        NaN   \n",
            "1962-01-03        NaN        NaN       NaN        NaN        NaN        NaN   \n",
            "1962-01-04        NaN        NaN       NaN        NaN        NaN        NaN   \n",
            "1962-01-05        NaN        NaN       NaN        NaN        NaN        NaN   \n",
            "1962-01-08        NaN        NaN       NaN        NaN        NaN        NaN   \n",
            "...               ...        ...       ...        ...        ...        ...   \n",
            "2024-04-25  2624500.0  1078800.0  674700.0   550600.0  2814300.0  1529700.0   \n",
            "2024-04-26  3002300.0  1099200.0  461400.0   380400.0  2687000.0  1970800.0   \n",
            "2024-04-29  2667400.0  1195000.0  560700.0   455500.0  3272100.0  1267900.0   \n",
            "2024-04-30  2974000.0  1429000.0  907700.0   704500.0  4541300.0  1429800.0   \n",
            "2024-05-01  4844879.0  2485345.0  580033.0  1023932.0  4276409.0  1446887.0   \n",
            "\n",
            "Price                                        \n",
            "Ticker             ZM         ZS        ZTS  \n",
            "Date                                         \n",
            "1962-01-02        NaN        NaN        NaN  \n",
            "1962-01-03        NaN        NaN        NaN  \n",
            "1962-01-04        NaN        NaN        NaN  \n",
            "1962-01-05        NaN        NaN        NaN  \n",
            "1962-01-08        NaN        NaN        NaN  \n",
            "...               ...        ...        ...  \n",
            "2024-04-25  2518200.0  1078700.0  4567200.0  \n",
            "2024-04-26  2801200.0  1341800.0  5236500.0  \n",
            "2024-04-29  3034900.0  1296200.0  4849500.0  \n",
            "2024-04-30  2544700.0  1653800.0  3647900.0  \n",
            "2024-05-01  2444740.0  1118364.0  3339769.0  \n",
            "\n",
            "[15690 rows x 6018 columns]\n"
          ]
        }
      ],
      "source": [
        "import pandas as pd\n",
        "import yfinance as yf\n",
        "\n",
        "# Load the CSV file\n",
        "data = pd.read_csv('/content/list.csv')\n",
        "\n",
        "# Get the list of stock tickers\n",
        "tickers = data['Symbol'].tolist()\n",
        "\n",
        "# Convert list of tickers into a string separated by spaces for yfinance\n",
        "ticker_str = ' '.join(tickers)\n",
        "\n",
        "# Download historical data from 1950 to 2024\n",
        "stock_data = yf.download(ticker_str, start='1950-01-01', end='2024-12-31')\n",
        "\n",
        "# Now, stock_data holds your pulled stock information, and you can work with it directly in Python\n",
        "print(stock_data)"
      ]
    },
    {
      "cell_type": "code",
      "source": [
        "import pandas as pd\n",
        "import yfinance as yf\n",
        "import numpy as np\n",
        "\n",
        "# Ensure that 'Adj Close' is at the same level as other columns if it's a MultiIndex\n",
        "if isinstance(stock_data.columns, pd.MultiIndex):\n",
        "    stock_data = stock_data['Adj Close']\n",
        "else:\n",
        "    stock_data = stock_data[['Adj Close']]\n",
        "\n",
        "# Calculate logarithmic returns for each stock\n",
        "log_returns = np.log(stock_data / stock_data.shift(1))\n",
        "\n",
        "# Resample the data to monthly, and calculate the mean of the log returns\n",
        "monthly_returns = log_returns.resample('M').mean()\n",
        "\n",
        "# Calculate the mean of the monthly log returns for each stock\n",
        "average_monthly_returns = monthly_returns.mean().sort_values(ascending=False)\n",
        "\n",
        "# Get the top 25 stocks based on average monthly logarithmic returns\n",
        "top_25_stocks = average_monthly_returns.head(25)\n",
        "\n",
        "print(top_25_stocks)"
      ],
      "metadata": {
        "colab": {
          "base_uri": "https://localhost:8080/"
        },
        "id": "yFQmu37wd42w",
        "outputId": "d59f82c7-0720-4e4d-dabc-0d9cf10dfe61"
      },
      "execution_count": null,
      "outputs": [
        {
          "output_type": "stream",
          "name": "stdout",
          "text": [
            "Ticker\n",
            "KLG     0.006018\n",
            "NLOP    0.005380\n",
            "PHIN    0.004247\n",
            "NATL    0.003925\n",
            "PINS    0.003624\n",
            "CART    0.003395\n",
            "CR      0.002974\n",
            "RYAN    0.002795\n",
            "CNM     0.002670\n",
            "CEG     0.002518\n",
            "FTRE    0.002317\n",
            "ROKU    0.002247\n",
            "BEPC    0.002172\n",
            "GEHC    0.002124\n",
            "TTD     0.002050\n",
            "VLTO    0.002021\n",
            "CARR    0.001988\n",
            "KNSL    0.001943\n",
            "BJ      0.001860\n",
            "SWAV    0.001837\n",
            "INSP    0.001683\n",
            "MDB     0.001669\n",
            "MEDP    0.001574\n",
            "CRWD    0.001537\n",
            "BLD     0.001526\n",
            "dtype: float64\n"
          ]
        }
      ]
    },
    {
      "cell_type": "code",
      "source": [
        "# Save the pulled data to a new CSV file\n",
        "stock_data.to_csv('stock_data_1950_2024.csv')"
      ],
      "metadata": {
        "id": "pXS05391gAdD"
      },
      "execution_count": null,
      "outputs": []
    },
    {
      "cell_type": "code",
      "source": [
        "# Assuming 'statistics_tables' and 'correlation_matrices' dictionaries have been filled with data as described earlier.\n",
        "\n",
        "# Define the periods for segmentation\n",
        "periods = ['daily', 'weekly', 'monthly', 'quarterly', 'yearly']\n",
        "\n",
        "# Print the statistics and correlation matrices for each period\n",
        "for period in periods:\n",
        "    print(f\"Statistics for {period.capitalize()} Period:\")\n",
        "    print(statistics_tables[period])\n",
        "    print(\"\\n\")  # Adding a newline for better readability between sections\n",
        "\n",
        "    print(f\"Correlation Matrix for {period.capitalize()} Period:\")\n",
        "    print(correlation_matrices[period])\n",
        "    print(\"\\n\\n\")  # Adding double newlines for spacing between periods"
      ],
      "metadata": {
        "id": "9lvwUTN8SH50"
      },
      "execution_count": null,
      "outputs": []
    }
  ]
}